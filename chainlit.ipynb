{
 "cells": [
  {
   "cell_type": "code",
   "execution_count": null,
   "metadata": {},
   "outputs": [],
   "source": [
    "python3 -m pip install pymupdf\n",
    "python3 -m pip install spacy\n",
    "python3 -m spacy download ko_core_news_sm\n",
    "python3 -m pip install tiktoken\n",
    "python3 -m pip install chromadb\n",
    "python3 -m pip install openai\n",
    "python3 -m pip install -qU langchain-openai\n",
    "pip install -U langchain-openai\n",
    "python3 -m pip install chainlit\n",
    "\n",
    "C:\\Users\\bumi\\AppData\\Local\\Packages\\PythonSoftwareFoundation.Python.3.11_qbz5n2kfra8p0\\LocalCache\\local-packages\\Python311\\Scripts\\\n",
    "\n",
    "chainlit run chat_1.py --port 8500\n",
    "\n",
    "pip install --upgrade openai\n"
   ]
  },
  {
   "cell_type": "code",
   "execution_count": null,
   "metadata": {},
   "outputs": [],
   "source": []
  },
  {
   "cell_type": "code",
   "execution_count": null,
   "metadata": {},
   "outputs": [],
   "source": []
  }
 ],
 "metadata": {
  "kernelspec": {
   "display_name": "Python 3",
   "language": "python",
   "name": "python3"
  },
  "language_info": {
   "codemirror_mode": {
    "name": "ipython",
    "version": 3
   },
   "file_extension": ".py",
   "mimetype": "text/x-python",
   "name": "python",
   "nbconvert_exporter": "python",
   "pygments_lexer": "ipython3",
   "version": "3.11.9"
  }
 },
 "nbformat": 4,
 "nbformat_minor": 2
}
